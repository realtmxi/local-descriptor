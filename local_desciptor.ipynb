{
 "cells": [
  {
   "attachments": {},
   "cell_type": "markdown",
   "metadata": {
    "collapsed": false,
    "pycharm": {
     "name": "#%% md\n"
    }
   },
   "source": [
    "# Local descriptor"
   ]
  },
  {
   "cell_type": "code",
   "execution_count": 1,
   "metadata": {
    "collapsed": false,
    "pycharm": {
     "name": "#%%\n"
    }
   },
   "outputs": [],
   "source": [
    "import matplotlib.pyplot as plt\n",
    "import cv2\n",
    "import numpy as np\n",
    "import math"
   ]
  },
  {
   "cell_type": "markdown",
   "metadata": {
    "collapsed": false,
    "pycharm": {
     "name": "#%% md\n"
    }
   },
   "source": []
  },
  {
   "cell_type": "code",
   "execution_count": 4,
   "metadata": {
    "collapsed": false,
    "pycharm": {
     "name": "#%%\n"
    }
   },
   "outputs": [],
   "source": [
    "def clip_and_count(gradient, threshold):\n",
    "    \"\"\"\n",
    "        I used Liwei Yang 1008229631's flag method to reduce running complexity\n",
    "    \"\"\"\n",
    "    flags = np.zeros(shape=(gradient.shape[0], gradient.shape[1]), dtype=int)\n",
    "    height = gradient.shape[0]\n",
    "    width = gradient.shape[1]\n",
    "    groups = []\n",
    "    for h in range(height):\n",
    "        for w in range(width):\n",
    "            magnitude = np.linalg.norm(gradient[h][w])\n",
    "            if magnitude >= threshold:\n",
    "                ratio = np.divide(gradient[h][w][0], gradient[h][w][1],\n",
    "                                  out=np.zeros_like(gradient[h][w][0]), where=gradient[h][w][1]!=0)\n",
    "                direction = (np.arctan(ratio) * 180 / math.pi)\n",
    "                if direction >= 0:\n",
    "                    group = int((direction + 15) / 25)\n",
    "                else:\n",
    "                    group = int((180 - np.abs(direction) + 15) / 25)\n",
    "                flags[h][w] = group + 1\n",
    "                if group not in groups:\n",
    "                    groups.append(group)\n",
    "                    groups.append(direction)\n",
    "    flags[flags > 6] = 1\n",
    "    return flags"
   ]
  },
  {
   "cell_type": "code",
   "execution_count": 5,
   "metadata": {
    "collapsed": false,
    "pycharm": {
     "name": "#%%\n"
    }
   },
   "outputs": [],
   "source": [
    "def to_box(gradient_magnitude, flags, tau=25):\n",
    "    add = np.zeros(shape=(tau, tau, 6), dtype=float)\n",
    "    count = np.zeros(shape=(tau, tau, 6), dtype=int)\n",
    "    dh = int(flags.shape[0]/tau)\n",
    "    dw = int(flags.shape[1]/tau)\n",
    "    for h in range(tau):\n",
    "        for w in range(tau):\n",
    "            block = flags[h * dh: h * dh + dh]\n",
    "            box = block.T[w * dw:w * dw + dw].flatten()\n",
    "\n",
    "            magnitude_block = gradient_magnitude[h * dh: h * dh + dh]\n",
    "            magnitude_box = magnitude_block.transpose(1, 0)[strat_w:end_w].transpose(1, 0).flatten()\n",
    "\n",
    "            for k in range(6):\n",
    "                indices = np.where(flag_block == (k+1))\n",
    "                ct = np.take(magnitude_block, indices)\n",
    "                add[h][w][k] = np.sum(ct)\n",
    "                count[h][w][k] = np.count_nonzero(box == (k+1))\n",
    "    return count, add"
   ]
  },
  {
   "cell_type": "code",
   "execution_count": 9,
   "metadata": {
    "collapsed": false,
    "pycharm": {
     "name": "#%%\n"
    }
   },
   "outputs": [],
   "source": [
    "def normalize(unnormalized, tau=25):\n",
    "    constant = 0.001\n",
    "    rslt =np.zeros(shape=(unnormalized.shape[0]-1, unnormalized.shape[1]-1, 6), dtype=float)\n",
    "    height = tensor.shape[0]\n",
    "    width = tensor.shape[1]\n",
    "    dh = int(height/tau)\n",
    "    dw = int(width/tau)\n",
    "    for h in range(tau-1):\n",
    "        for w in range(tau-1):\n",
    "            block = tensor[h * dh:h * dh + dh  + dh]\n",
    "            box = block.transpose(1, 0, 2)[w * dw:w * dw + dw + dw].transpose(1, 0, 2).transpose(2, 0, 1)\n",
    "            raw = np.sum(np.sum(box, axis=1), axis=1)\n",
    "            normalized = unnormalized_vector / np.sqrt(np.sum(raw * raw) + constant * constant)\n",
    "            rslt[h][w]  = normalized\n",
    "    return rslt\n"
   ]
  },
  {
   "cell_type": "code",
   "execution_count": 7,
   "metadata": {
    "collapsed": false,
    "pycharm": {
     "name": "#%%\n"
    }
   },
   "outputs": [],
   "source": [
    "def plot_HOG(image, group_box, tau=25, normalize=True):\n",
    "\n",
    "    x_dir = np.zeros(shape=(6,), dtype=float)\n",
    "    y_dir = np.zeros(shape=(6,), dtype=float)\n",
    "    for k in range(6):\n",
    "        x_dir[k] = np.cos(k * math.pi / 6)\n",
    "        y_dir[k] = np.sin(k * math.pi / 6)\n",
    "\n",
    "    dw = int(image.shape[0] / tau)\n",
    "    dh = int(image.shape[1] / tau)\n",
    "    fig, ax = plt.subplots()\n",
    "    ax.imshow(image, cmap='gray')\n",
    "    for i in range(tau):\n",
    "        for j in range(tau):\n",
    "            for k in range(6):\n",
    "                val = group_box[i][j][k]\n",
    "                g = group_box[i][j]\n",
    "                x_ratio = x_dir[k]\n",
    "                y_ratio = y_dir[k]\n",
    "                if normalize:\n",
    "                    magnitude = val / max(np.sum(g), 1)\n",
    "                else:\n",
    "                    magnitude = val\n",
    "                ax.quiver( i * dw + int(dw/2), j * dh + int(dh/2), x_ratio * magnitude, y_ratio * magnitude, width=0.002, scale=2, scale_units='inches', color='r')\n",
    "                ax.quiver(y_pos, x_pos, -x_direct, -y_direct, width=0.002,\n",
    "                          scale=2, scale_units='inches', color='r')\n",
    "    plt.show()\n",
    "    return None"
   ]
  },
  {
   "cell_type": "code",
   "execution_count": null,
   "metadata": {
    "collapsed": false,
    "pycharm": {
     "is_executing": true,
     "name": "#%%\n"
    }
   },
   "outputs": [],
   "source": [
    "threshold = 100\n",
    "tau = 25\n",
    "image = cv2.imread('Q3/1.jpg', cv2.IMREAD_GRAYSCALE)\n",
    "sobelx = np.array(cv2.Sobel(image, cv2.CV_64F, 1, 0, ksize=3))\n",
    "sobely = np.array(cv2.Sobel(image, cv2.CV_64F, 0, 1, ksize=3))\n",
    "gradient = np.array([sobelx, sobely]).transpose(1, 2, 0)\n",
    "flags = clip_and_count(gradient=gradient, threshold=threshold)\n",
    "count, add = to_box(gradient_magnitude=np.sqrt(sobelx * sobelx + sobely * sobely), flags=flags, tau=tau)\n",
    "normalized = normalize(added)"
   ]
  },
  {
   "cell_type": "code",
   "execution_count": null,
   "metadata": {
    "collapsed": false,
    "pycharm": {
     "is_executing": true,
     "name": "#%%\n"
    }
   },
   "outputs": [],
   "source": [
    "plot_HOG(image, flags,normalize=True)"
   ]
  },
  {
   "cell_type": "code",
   "execution_count": null,
   "metadata": {
    "collapsed": false,
    "pycharm": {
     "name": "#%%\n"
    }
   },
   "outputs": [],
   "source": [
    "plot_HOG(image, add, normalize=True)"
   ]
  },
  {
   "cell_type": "code",
   "execution_count": null,
   "metadata": {
    "collapsed": false
   },
   "outputs": [],
   "source": [
    "plot_HOG(image, normalized, tau=tau-1, normalize=False)\n",
    "np.savetxt(\"Normalized_matrix.txt\", normalized.flatten())\n"
   ]
  }
 ],
 "metadata": {
  "kernelspec": {
   "display_name": "Python 3",
   "language": "python",
   "name": "python3"
  },
  "language_info": {
   "codemirror_mode": {
    "name": "ipython",
    "version": 2
   },
   "file_extension": ".py",
   "mimetype": "text/x-python",
   "name": "python",
   "nbconvert_exporter": "python",
   "pygments_lexer": "ipython2",
   "version": "2.7.6"
  }
 },
 "nbformat": 4,
 "nbformat_minor": 0
}
